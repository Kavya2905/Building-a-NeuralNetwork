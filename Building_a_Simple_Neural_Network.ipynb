{
  "nbformat": 4,
  "nbformat_minor": 0,
  "metadata": {
    "colab": {
      "name": "Building a Simple Neural Network.ipynb",
      "provenance": [],
      "collapsed_sections": [],
      "authorship_tag": "ABX9TyPqldMCzJtTwoWaH6ul5QrG",
      "include_colab_link": true
    },
    "kernelspec": {
      "name": "python3",
      "display_name": "Python 3"
    }
  },
  "cells": [
    {
      "cell_type": "markdown",
      "metadata": {
        "id": "view-in-github",
        "colab_type": "text"
      },
      "source": [
        "<a href=\"https://colab.research.google.com/github/Kavya2905/Building-a-NeuralNetwork/blob/main/Building_a_Simple_Neural_Network.ipynb\" target=\"_parent\"><img src=\"https://colab.research.google.com/assets/colab-badge.svg\" alt=\"Open In Colab\"/></a>"
      ]
    },
    {
      "cell_type": "code",
      "metadata": {
        "id": "MqrGcnsq78EZ"
      },
      "source": [
        "### Importing libraries\n",
        "\n",
        "import numpy as np"
      ],
      "execution_count": null,
      "outputs": []
    },
    {
      "cell_type": "code",
      "metadata": {
        "id": "J41B7tcuHlcL"
      },
      "source": [
        "x = np.array([[0,1,0],[0,1,1],[1,0,0],[1,0,1]])\n",
        "y = np.array([[0],[0],[1],[1]])"
      ],
      "execution_count": null,
      "outputs": []
    },
    {
      "cell_type": "code",
      "metadata": {
        "colab": {
          "base_uri": "https://localhost:8080/"
        },
        "id": "KqhZsZBmH18u",
        "outputId": "fdadd079-5967-4363-f565-fb82c75978e4"
      },
      "source": [
        "x"
      ],
      "execution_count": null,
      "outputs": [
        {
          "output_type": "execute_result",
          "data": {
            "text/plain": [
              "array([[0, 1, 0],\n",
              "       [0, 1, 1],\n",
              "       [1, 0, 0],\n",
              "       [1, 0, 1]])"
            ]
          },
          "metadata": {
            "tags": []
          },
          "execution_count": 4
        }
      ]
    },
    {
      "cell_type": "code",
      "metadata": {
        "colab": {
          "base_uri": "https://localhost:8080/"
        },
        "id": "vKqKFmmAH-T0",
        "outputId": "d88e7057-e17a-4d24-e2db-130d680a4232"
      },
      "source": [
        "y"
      ],
      "execution_count": null,
      "outputs": [
        {
          "output_type": "execute_result",
          "data": {
            "text/plain": [
              "array([[0],\n",
              "       [0],\n",
              "       [1],\n",
              "       [1]])"
            ]
          },
          "metadata": {
            "tags": []
          },
          "execution_count": 5
        }
      ]
    },
    {
      "cell_type": "code",
      "metadata": {
        "colab": {
          "base_uri": "https://localhost:8080/"
        },
        "id": "Yc8PTuX-IAfA",
        "outputId": "c4ccff87-72cf-42dc-83ec-586d9ab3b050"
      },
      "source": [
        "# Assign the weights (Random)\n",
        "\n",
        "np.random.seed(10)\n",
        "weights = np.random.random((3,1))\n",
        "weights"
      ],
      "execution_count": null,
      "outputs": [
        {
          "output_type": "execute_result",
          "data": {
            "text/plain": [
              "array([[0.77132064],\n",
              "       [0.02075195],\n",
              "       [0.63364823]])"
            ]
          },
          "metadata": {
            "tags": []
          },
          "execution_count": 9
        }
      ]
    },
    {
      "cell_type": "code",
      "metadata": {
        "colab": {
          "base_uri": "https://localhost:8080/"
        },
        "id": "7I7dW-G6IlMl",
        "outputId": "f6b73fde-3264-4a32-fc87-374ffbaee77a"
      },
      "source": [
        "sum = np.dot(x,weights) + 0.02\n",
        "sum"
      ],
      "execution_count": null,
      "outputs": [
        {
          "output_type": "execute_result",
          "data": {
            "text/plain": [
              "array([[0.04075195],\n",
              "       [0.67440018],\n",
              "       [0.79132064],\n",
              "       [1.42496888]])"
            ]
          },
          "metadata": {
            "tags": []
          },
          "execution_count": 11
        }
      ]
    },
    {
      "cell_type": "code",
      "metadata": {
        "id": "zaIz4IFJKN56"
      },
      "source": [
        "### Activation function\n",
        "\n",
        "def activation(x):\n",
        "  return 1/(1+np.exp(-x))"
      ],
      "execution_count": null,
      "outputs": []
    },
    {
      "cell_type": "code",
      "metadata": {
        "colab": {
          "base_uri": "https://localhost:8080/"
        },
        "id": "zvQxWedWKxRG",
        "outputId": "7df4f89b-9454-4f43-b78b-cd4633a22436"
      },
      "source": [
        "### Predicting values\n",
        "\n",
        "ypred = activation(sum)\n",
        "ypred"
      ],
      "execution_count": null,
      "outputs": [
        {
          "output_type": "execute_result",
          "data": {
            "text/plain": [
              "array([[0.51018658],\n",
              "       [0.66248773],\n",
              "       [0.68811483],\n",
              "       [0.8061162 ]])"
            ]
          },
          "metadata": {
            "tags": []
          },
          "execution_count": 13
        }
      ]
    },
    {
      "cell_type": "code",
      "metadata": {
        "colab": {
          "base_uri": "https://localhost:8080/"
        },
        "id": "j-mcHCw3K1nI",
        "outputId": "0f83d9b2-27ed-4699-8d8d-32f0fc8dd5d9"
      },
      "source": [
        "ypred.round()                                     ## To round off"
      ],
      "execution_count": null,
      "outputs": [
        {
          "output_type": "execute_result",
          "data": {
            "text/plain": [
              "array([[1.],\n",
              "       [1.],\n",
              "       [1.],\n",
              "       [1.]])"
            ]
          },
          "metadata": {
            "tags": []
          },
          "execution_count": 14
        }
      ]
    },
    {
      "cell_type": "code",
      "metadata": {
        "id": "Gj8yFpmjLEE_"
      },
      "source": [
        "### Gradient descent\n",
        "\n",
        "def gradient(a,x):\n",
        "  return a* x * (1-x)                            ## x(1-x) = derivative of sigmoid"
      ],
      "execution_count": null,
      "outputs": []
    },
    {
      "cell_type": "code",
      "metadata": {
        "colab": {
          "base_uri": "https://localhost:8080/"
        },
        "id": "_8wEebdUO6EQ",
        "outputId": "f234b554-ceed-4e4b-a1d0-a788c79af1b2"
      },
      "source": [
        "sum = np.dot(x,weights) + 0.02\n",
        "ypred = activation(sum)\n",
        "error = y-ypred\n",
        "change_weight = gradient(error,  ypred)          ## Gradient descent\n",
        "weights = weights + np.dot(x.T, change_weight)\n",
        "error"
      ],
      "execution_count": null,
      "outputs": [
        {
          "output_type": "execute_result",
          "data": {
            "text/plain": [
              "array([[-0.01617692],\n",
              "       [-0.01626926],\n",
              "       [ 0.01630667],\n",
              "       [ 0.01621413]])"
            ]
          },
          "metadata": {
            "tags": []
          },
          "execution_count": 31
        }
      ]
    },
    {
      "cell_type": "code",
      "metadata": {
        "id": "_KnJZ-LWNDPm"
      },
      "source": [
        "for i in range(500):\n",
        "  sum = np.dot(x,weights) + 0.02\n",
        "  ypred = activation(sum)\n",
        "  error = y-ypred\n",
        "  change_weight = gradient(error,  ypred)\n",
        "  weights = weights + np.dot(x.T, change_weight)\n"
      ],
      "execution_count": null,
      "outputs": []
    },
    {
      "cell_type": "code",
      "metadata": {
        "colab": {
          "base_uri": "https://localhost:8080/"
        },
        "id": "P5FhSReuNuT-",
        "outputId": "d4b521e1-2eea-4dca-bebf-0908249885af"
      },
      "source": [
        "error"
      ],
      "execution_count": null,
      "outputs": [
        {
          "output_type": "execute_result",
          "data": {
            "text/plain": [
              "array([[-0.02309041],\n",
              "       [-0.02325249],\n",
              "       [ 0.0233153 ],\n",
              "       [ 0.02315279]])"
            ]
          },
          "metadata": {
            "tags": []
          },
          "execution_count": 25
        }
      ]
    },
    {
      "cell_type": "code",
      "metadata": {
        "colab": {
          "base_uri": "https://localhost:8080/"
        },
        "id": "6H7Y1J8zOVTP",
        "outputId": "0fc8a77f-43c3-4e8f-f1f0-2b1fd1410371"
      },
      "source": [
        "ypred"
      ],
      "execution_count": null,
      "outputs": [
        {
          "output_type": "execute_result",
          "data": {
            "text/plain": [
              "array([[0.02309041],\n",
              "       [0.02325249],\n",
              "       [0.9766847 ],\n",
              "       [0.97684721]])"
            ]
          },
          "metadata": {
            "tags": []
          },
          "execution_count": 26
        }
      ]
    },
    {
      "cell_type": "code",
      "metadata": {
        "colab": {
          "base_uri": "https://localhost:8080/"
        },
        "id": "w0Z9s1J0OXaD",
        "outputId": "5cb8f2b5-bc0c-4146-9503-d506bb71386a"
      },
      "source": [
        "ypred.round()"
      ],
      "execution_count": null,
      "outputs": [
        {
          "output_type": "execute_result",
          "data": {
            "text/plain": [
              "array([[0.],\n",
              "       [0.],\n",
              "       [1.],\n",
              "       [1.]])"
            ]
          },
          "metadata": {
            "tags": []
          },
          "execution_count": 27
        }
      ]
    },
    {
      "cell_type": "code",
      "metadata": {
        "colab": {
          "base_uri": "https://localhost:8080/"
        },
        "id": "1PRy3GzsOajw",
        "outputId": "846ea7cc-ade7-45e1-f2d9-e68f96a3c8c9"
      },
      "source": [
        "weights"
      ],
      "execution_count": null,
      "outputs": [
        {
          "output_type": "execute_result",
          "data": {
            "text/plain": [
              "array([[ 3.71610869],\n",
              "       [-3.76602564],\n",
              "       [ 0.00715645]])"
            ]
          },
          "metadata": {
            "tags": []
          },
          "execution_count": 28
        }
      ]
    }
  ]
}